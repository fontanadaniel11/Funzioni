{
  "nbformat": 4,
  "nbformat_minor": 0,
  "metadata": {
    "colab": {
      "provenance": [],
      "include_colab_link": true
    },
    "kernelspec": {
      "name": "python3",
      "display_name": "Python 3"
    },
    "language_info": {
      "name": "python"
    }
  },
  "cells": [
    {
      "cell_type": "markdown",
      "metadata": {
        "id": "view-in-github",
        "colab_type": "text"
      },
      "source": [
        "<a href=\"https://colab.research.google.com/github/fontanadaniel11/Funzioni/blob/main/EserciziFunzioniVerde.ipynb\" target=\"_parent\"><img src=\"https://colab.research.google.com/assets/colab-badge.svg\" alt=\"Open In Colab\"/></a>"
      ]
    },
    {
      "cell_type": "code",
      "source": [
        "#Scrivi una funzione che calcoli l'area di un quadrato\n",
        "def area_quadrato(lato):\n",
        "  return lato**2\n",
        "\n",
        "latoQuadrato = float(input(\"inserisci il valore del lato: \"))\n",
        "print(\"L'area del quadrato é: \", area_quadrato(latoQuadrato))"
      ],
      "metadata": {
        "colab": {
          "base_uri": "https://localhost:8080/"
        },
        "id": "Jami6-9eh18m",
        "outputId": "34a8463d-7249-451a-c906-d08f6f700c25"
      },
      "execution_count": null,
      "outputs": [
        {
          "output_type": "stream",
          "name": "stdout",
          "text": [
            "inserisci il valore del lato: 4\n",
            "L'area del quadrato é:  16.0\n"
          ]
        }
      ]
    },
    {
      "cell_type": "code",
      "source": [
        "#Scrivi una funzione che calcoli l'area del cubo \n",
        "def area_cubo(lato):\n",
        "  return area_quadrato(lato) * 6\n",
        "\n",
        "latoCubo = float(input(\"inserisci il valore del lato: \"))\n",
        "print(\"L'area del cubo é: \", area_cubo(latoCubo))"
      ],
      "metadata": {
        "colab": {
          "base_uri": "https://localhost:8080/"
        },
        "id": "-VImS8XkldE8",
        "outputId": "5913dadf-b2f6-48c0-df26-f06d94927ea0"
      },
      "execution_count": null,
      "outputs": [
        {
          "output_type": "stream",
          "name": "stdout",
          "text": [
            "inserisci il valore del lato: 7\n",
            "L'area del cubo é:  294.0\n"
          ]
        }
      ]
    },
    {
      "cell_type": "code",
      "source": [
        "#Scrivi una funzione che calcoli il volume del cubo \n",
        "def volume_cubo(lato):\n",
        "  return area_quadrato(lato) * lato\n",
        "\n",
        "latoCubo = float(input(\"inserisci il valore del lato: \"))\n",
        "print(\"Il volume del cubo é: \", volume_cubo(latoCubo))"
      ],
      "metadata": {
        "colab": {
          "base_uri": "https://localhost:8080/"
        },
        "id": "FyShrYoeoV-U",
        "outputId": "0dc62f58-6bb3-4c2e-bf80-90a74b76db9e"
      },
      "execution_count": null,
      "outputs": [
        {
          "output_type": "stream",
          "name": "stdout",
          "text": [
            "inserisci il valore del lato: 2\n",
            "Il volume del cubo é:  8.0\n"
          ]
        }
      ]
    },
    {
      "cell_type": "code",
      "source": [
        "#Scrivi una funzione che calcoli l'area del rettangolo\n",
        "def area_rettangolo(base, altezza):\n",
        "  return base * altezza"
      ],
      "metadata": {
        "id": "1ikGPRWxG7Jb"
      },
      "execution_count": null,
      "outputs": []
    },
    {
      "cell_type": "code",
      "source": [
        "bas = int(input(\"Inserisci la base \"))\n",
        "alt = int(input(\"Inserisci l'altezza \"))\n",
        "print(\"L'area del rettangolo é di\", area_rettangolo(bas, alt), \"cm\")"
      ],
      "metadata": {
        "colab": {
          "base_uri": "https://localhost:8080/"
        },
        "id": "PpDkgAUuHGBy",
        "outputId": "19fd2cfb-a87c-451d-f030-3cff1d197139"
      },
      "execution_count": null,
      "outputs": [
        {
          "output_type": "stream",
          "name": "stdout",
          "text": [
            "Inserisci la base 12\n",
            "Inserisci l'altezza 2\n",
            "L'area del rettangolo é di 24 cm\n"
          ]
        }
      ]
    },
    {
      "cell_type": "code",
      "source": [
        "#Scrivi una funzione che calcoli l'area del parallelepipedo\n",
        "def area_parallelepipedo(base, altezza, larghezza):\n",
        "  return (area_rettangolo(base, altezza) + area_rettangolo(larghezza, altezza) + area_rettangolo(base, larghezza)) * 2"
      ],
      "metadata": {
        "id": "TazRKgYAHY9J"
      },
      "execution_count": null,
      "outputs": []
    },
    {
      "cell_type": "code",
      "source": [
        "bas = int(input(\"Inserisci la base \"))\n",
        "alt = int(input(\"Inserisci l'altezza \"))\n",
        "lar = int(input(\"Inserisci la larghezza \"))\n",
        "print(\"L'area del parallelepipedo é di\", area_parallelepipedo(bas, alt, lar), \"cm2\")"
      ],
      "metadata": {
        "colab": {
          "base_uri": "https://localhost:8080/"
        },
        "id": "LRSfsNCzIKwh",
        "outputId": "6a8712f5-6e60-4177-8d17-384774ae6aee"
      },
      "execution_count": null,
      "outputs": [
        {
          "output_type": "stream",
          "name": "stdout",
          "text": [
            "Inserisci la base 2\n",
            "Inserisci l'altezza 3\n",
            "Inserisci la larghezza 4\n",
            "L'area del parallelepipedo é di 52 cm2\n"
          ]
        }
      ]
    },
    {
      "cell_type": "code",
      "source": [
        "#Scrivi funzione che calcoli il volume del parallelepipedo\n",
        "def volume_parallelepipedo(base, altezza, larghezza):\n",
        "  return area_rettangolo(base, altezza) * larghezza"
      ],
      "metadata": {
        "id": "0sOYT5IVJS1K"
      },
      "execution_count": null,
      "outputs": []
    },
    {
      "cell_type": "code",
      "source": [
        "bas = int(input(\"Inserisci la base \"))\n",
        "alt = int(input(\"Inserisci l'altezza \"))\n",
        "lar = int(input(\"Inserisci la larghezza \"))\n",
        "print(\"Il volume del parallelepipedo é di\", volume_parallelepipedo(bas, alt, lar), \"cm3\")"
      ],
      "metadata": {
        "colab": {
          "base_uri": "https://localhost:8080/"
        },
        "id": "GMxnNKuXJihB",
        "outputId": "35bf0d07-a501-4c9b-9113-ab422134b182"
      },
      "execution_count": null,
      "outputs": [
        {
          "output_type": "stream",
          "name": "stdout",
          "text": [
            "Inserisci la base 5\n",
            "Inserisci l'altezza 4\n",
            "Inserisci la larghezza 3\n",
            "Il volume del parallelepipedo é di 60 cm3\n"
          ]
        }
      ]
    },
    {
      "cell_type": "code",
      "source": [
        "#Scrivi una funzione che chieda all'utente se arbitrare su un cubo o su un parallelepipedo. In base alla scelta inserire i dati corretti\n",
        "def menu():\n",
        "  scelta = int(input(\"scegli 1 se operare su un cubo o 2 su un parallelepipedo \"))\n",
        "  if scelta == 1:\n",
        "    lato = int(input(\"Inserisci il lato: \"))\n",
        "    print(f\"L'area del faccia del cubo é di {area_quadrato(lato)}\")\n",
        "    print(f\"L'area del cubo é di {area_cubo(lato)}\")\n",
        "    print(f\"Il volume del cubo é di {volume_cubo(lato)}\")\n",
        "  elif scelta == 2:\n",
        "    larghezza = int(input(\"Inserisci la larghezza: \"))\n",
        "    altezza = int(input(\"Inserisci l'altezza: \"))\n",
        "    profondità = int(input(\"Inserisci la profondità: \"))\n",
        "    print(f\"L'area del rettangolo in primo piano è di {area_rettangolo(larghezza, altezza)}\")\n",
        "    print(f\"L'area del rettangolo sui lato è di {area_rettangolo(altezza, profondità)}\")\n",
        "    print(f\"L'area del rettangolo superiore o inferiore è di {area_rettangolo(larghezza, profondità)}\")\n",
        "    print(f\"L'area del parallelepipedo è di {area_parallelepipedo(larghezza, altezza, profondità)}\")\n",
        "    print(f\"Il volume del parallelepipedo è di {volume_parallelepipedo(larghezza, altezza, profondità)}\")\n",
        "  else: \n",
        "    print(\"Valore errato\")"
      ],
      "metadata": {
        "id": "pC-x3ZS3PbUH"
      },
      "execution_count": null,
      "outputs": []
    },
    {
      "cell_type": "code",
      "source": [
        "menu()"
      ],
      "metadata": {
        "colab": {
          "base_uri": "https://localhost:8080/"
        },
        "id": "EaKRpY96TGtK",
        "outputId": "6c20f10e-0ca2-463d-e14f-b80e92bedbf5"
      },
      "execution_count": null,
      "outputs": [
        {
          "output_type": "stream",
          "name": "stdout",
          "text": [
            "scegli 1 se operare su un cubo o 2 su un parallelepipedo 2\n",
            "Inserisci la larghezza: 2\n",
            "Inserisci l'altezza: 3\n",
            "Inserisci la profondità: 4\n",
            "L'area del rettangolo in primo piano è di 6\n",
            "L'area del rettangolo sui lato è di 12\n",
            "L'area del rettangolo superiore o inferiore è di 8\n",
            "L'area del parallelepipedo è di 52\n",
            "Il volume del parallelepipedo è di 24\n"
          ]
        }
      ]
    },
    {
      "cell_type": "code",
      "source": [
        "#Scrivere una funzione per determinare il peso di un parallelepipedo. Cercare quali devono essere le informazioni da passare come parametro\n",
        "def peso_parallepipedo(densita, larghezza, altezza, profondita):\n",
        "  return densita / volume_parallelepipedo(larghezza, altezza, profondita)"
      ],
      "metadata": {
        "id": "lxsLTHLZcUEz"
      },
      "execution_count": null,
      "outputs": []
    },
    {
      "cell_type": "code",
      "source": [
        "densità_utente = int(input(\"inserisci il valore della densità \"))\n",
        "larg = int(input(\"Inserisci la larghezza del parallelepipedo: \"))\n",
        "alte = int(input(\"Inserisci l'altezza del parallelepipedo: \"))\n",
        "profo = int(input(\"Inserisci la profondità del parallelepipedo: \"))\n",
        "print(f\"Il peso del parallelepipedo con larghezza: {larg} dm, altezza {alte} dm e profondità {profo} dm misura {round(peso_parallepipedo(densità_utente, larg, alte, profo), 2)} g\")"
      ],
      "metadata": {
        "colab": {
          "base_uri": "https://localhost:8080/"
        },
        "id": "OYkKyCXRzkGs",
        "outputId": "9a8096cf-cb86-4478-a593-88658aa6bc65"
      },
      "execution_count": null,
      "outputs": [
        {
          "output_type": "stream",
          "name": "stdout",
          "text": [
            "inserisci il valore della densità 40\n",
            "Inserisci la larghezza del parallelepipedo: 2\n",
            "Inserisci l'altezza del parallelepipedo: 3\n",
            "Inserisci la profondità del parallelepipedo: 4\n",
            "Il peso del parallelepipedo con larghezza: 2 dm, altezza 3 dm e profondità 4 dm misura 1.67 g\n"
          ]
        }
      ]
    }
  ]
}