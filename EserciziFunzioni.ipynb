{
  "nbformat": 4,
  "nbformat_minor": 0,
  "metadata": {
    "colab": {
      "provenance": [],
      "include_colab_link": true
    },
    "kernelspec": {
      "name": "python3",
      "display_name": "Python 3"
    },
    "language_info": {
      "name": "python"
    }
  },
  "cells": [
    {
      "cell_type": "markdown",
      "metadata": {
        "id": "view-in-github",
        "colab_type": "text"
      },
      "source": [
        "<a href=\"https://colab.research.google.com/github/fontanadaniel11/Funzioni/blob/main/EserciziFunzioni.ipynb\" target=\"_parent\"><img src=\"https://colab.research.google.com/assets/colab-badge.svg\" alt=\"Open In Colab\"/></a>"
      ]
    },
    {
      "cell_type": "code",
      "execution_count": null,
      "metadata": {
        "colab": {
          "base_uri": "https://localhost:8080/"
        },
        "id": "GGpG-nhSfIF0",
        "outputId": "78a89635-8700-48fc-dbf4-9c91aeb5db5f"
      },
      "outputs": [
        {
          "output_type": "stream",
          "name": "stdout",
          "text": [
            "20\n"
          ]
        }
      ],
      "source": [
        "#Definisci una funzione, nome max, che restituisce il numero più grande tra due numeri dati.\n",
        "def massimo(a, b):\n",
        "  if a > b:\n",
        "    return a\n",
        "  elif a == b:\n",
        "    return \"nessuno\"\n",
        "  else:\n",
        "    return b\n",
        "print(massimo(10, 20))"
      ]
    },
    {
      "cell_type": "code",
      "source": [
        "#Scrivere una funzione che trovi il massimo tra tre numeri\n",
        "def massimo3(a, b, c):\n",
        "  return massimo(massimo(a, b), c)\n",
        "print(massimo3(100, 400, 1))"
      ],
      "metadata": {
        "colab": {
          "base_uri": "https://localhost:8080/"
        },
        "id": "SEsYyyPfgA6P",
        "outputId": "6c9a5a75-277f-4287-a5ed-ad4182ec21b0"
      },
      "execution_count": null,
      "outputs": [
        {
          "output_type": "stream",
          "name": "stdout",
          "text": [
            "400\n"
          ]
        }
      ]
    },
    {
      "cell_type": "code",
      "source": [
        "#Definisci una funzione chiamata multi che accetta una lista e restituisce il prodotto di tutti gli elementi della lista.\n",
        "def multi(lista):\n",
        "  prodotto = 1\n",
        "  for numero in lista:\n",
        "    prodotto *= numero\n",
        "  return prodotto\n",
        "print(multi([10, 20, 30]))"
      ],
      "metadata": {
        "colab": {
          "base_uri": "https://localhost:8080/"
        },
        "id": "8X503HHJgi6Y",
        "outputId": "12b9e1e4-6320-4f58-ac83-d7d9ab1255d0"
      },
      "execution_count": null,
      "outputs": [
        {
          "output_type": "stream",
          "name": "stdout",
          "text": [
            "6000\n"
          ]
        }
      ]
    },
    {
      "cell_type": "code",
      "source": [
        "#Scrivi una funzione che trovi l'MCD di tutti i numeri di una lista\n",
        "def MCD_lista(lista):\n",
        "  MCD = 0\n",
        "  for i in range(1, len(lista)):\n",
        "    if lista[i] % i == 0:\n",
        "      MCD = i\n",
        "  return MCD\n",
        "print(MCD_lista([30, 14, 42]))"
      ],
      "metadata": {
        "colab": {
          "base_uri": "https://localhost:8080/"
        },
        "id": "3Jpfm77ig82Z",
        "outputId": "b6a484f2-8f66-46de-a5af-915bd4d6753d"
      },
      "execution_count": null,
      "outputs": [
        {
          "output_type": "stream",
          "name": "stdout",
          "text": [
            "2\n"
          ]
        }
      ]
    },
    {
      "cell_type": "code",
      "source": [
        "#Scrivere una funzione che accetti una stringa come paremetro e restituisca una nuova stringa con solo le vocali\n",
        "def stringa_vocali(stringa):\n",
        "  vocali = \"aeiouAEIOU\"\n",
        "  nuova_stringa = \"\"\n",
        "  for carattere in stringa:\n",
        "    if carattere in vocali:\n",
        "      nuova_stringa += carattere\n",
        "  return nuova_stringa\n",
        "print(stringa_vocali(\"riccardo\"))"
      ],
      "metadata": {
        "colab": {
          "base_uri": "https://localhost:8080/"
        },
        "id": "4e7JTU0DiVG6",
        "outputId": "df990a36-ae88-450d-9a9b-8430680e84e9"
      },
      "execution_count": null,
      "outputs": [
        {
          "output_type": "stream",
          "name": "stdout",
          "text": [
            "iao\n"
          ]
        }
      ]
    },
    {
      "cell_type": "code",
      "source": [
        "#Scrivere una funzione che accetti come parametro un intero e restituisca il numero come decimale\n",
        "def decimale(numero):\n",
        "  return float(numero)\n",
        "print(decimale(3))"
      ],
      "metadata": {
        "colab": {
          "base_uri": "https://localhost:8080/"
        },
        "id": "tjW2IwVIi_QX",
        "outputId": "fe6c26d9-8f09-4319-f0f4-6013a2b7fdfa"
      },
      "execution_count": null,
      "outputs": [
        {
          "output_type": "stream",
          "name": "stdout",
          "text": [
            "3.0\n"
          ]
        }
      ]
    },
    {
      "cell_type": "code",
      "source": [
        "#Scrivere una funzione che accetti come parametro una lista e restituisca un dizionario con il valore: indice (degli elementi della lista)\n",
        "def dizionario(lista):\n",
        "  dizionario = {lista[indice]: indice for indice in range(len(lista))}\n",
        "  return dizionario\n",
        "print(dizionario([\"ciao\", \"pippo\", \"pluto\"]))"
      ],
      "metadata": {
        "colab": {
          "base_uri": "https://localhost:8080/"
        },
        "id": "DrIH6fPAjQZ7",
        "outputId": "2b611ccb-23bf-47e5-c5e1-8c453d672d23"
      },
      "execution_count": null,
      "outputs": [
        {
          "output_type": "stream",
          "name": "stdout",
          "text": [
            "{'ciao': 0, 'pippo': 1, 'pluto': 2}\n"
          ]
        }
      ]
    },
    {
      "cell_type": "code",
      "source": [
        "#Scrivere una funzione che trovi il massimo di una lista\n",
        "def massimo_lista(lista):\n",
        "  massimo = 0\n",
        "  for i in range(len(lista)):\n",
        "    if lista[i] > massimo:\n",
        "      massimo = lista[i]\n",
        "  return massimo\n",
        "print(massimo_lista([30, 100, 43, 2]))"
      ],
      "metadata": {
        "colab": {
          "base_uri": "https://localhost:8080/"
        },
        "id": "AeZm8U95ndeI",
        "outputId": "248323f9-bf09-467f-9e8d-8283864165ad"
      },
      "execution_count": null,
      "outputs": [
        {
          "output_type": "stream",
          "name": "stdout",
          "text": [
            "100\n"
          ]
        }
      ]
    },
    {
      "cell_type": "code",
      "source": [
        "#Scrivere una funzione che accetti come parametro una stringa e restituisca una lista con tutti i carattere di essa\n",
        "def caratteri_stringa(stringa):\n",
        "  return list(stringa)\n",
        "print(caratteri_stringa(\"ciao\"))"
      ],
      "metadata": {
        "colab": {
          "base_uri": "https://localhost:8080/"
        },
        "id": "U0VwMbOLokTO",
        "outputId": "a745910d-b42b-4af7-87d3-ae4f27a57c7e"
      },
      "execution_count": null,
      "outputs": [
        {
          "output_type": "stream",
          "name": "stdout",
          "text": [
            "['c', 'i', 'a', 'o']\n"
          ]
        }
      ]
    },
    {
      "cell_type": "code",
      "source": [
        "#Scrivi una funzione che restituisca la lunghezza di una lista passata come parametro.\n",
        "def lunghezza(lista):\n",
        "  conto = 0\n",
        "  for elemento in lista:\n",
        "    conto += 1\n",
        "  return conto\n",
        "print(lunghezza([10, 20, 30]))"
      ],
      "metadata": {
        "colab": {
          "base_uri": "https://localhost:8080/"
        },
        "id": "D3Xq1u04qP_L",
        "outputId": "87b0ad1f-f578-4a1c-efc0-ddd722618e60"
      },
      "execution_count": null,
      "outputs": [
        {
          "output_type": "stream",
          "name": "stdout",
          "text": [
            "3\n"
          ]
        }
      ]
    },
    {
      "cell_type": "code",
      "source": [
        "#Scrivi una funzione a cui vengono passati come parametro un elemento e una lista di elementi, e che ti dica in output se l'elemento passato sia presente o meno nella lista.\n",
        "def controllo(elemento, lista):\n",
        "  if elemento in lista:\n",
        "    return True\n",
        "  else:\n",
        "    return False\n",
        "print(controllo(2, [2, 4, 6, 8]))"
      ],
      "metadata": {
        "colab": {
          "base_uri": "https://localhost:8080/"
        },
        "id": "SYaHDu0msJj8",
        "outputId": "b5d86e78-2fec-4cee-9357-b9efe2252af6"
      },
      "execution_count": null,
      "outputs": [
        {
          "output_type": "stream",
          "name": "stdout",
          "text": [
            "True\n"
          ]
        }
      ]
    },
    {
      "cell_type": "code",
      "source": [
        "#Scrivi una funzione che accetti una lista di True e False e restituisca una tupla con le volte che essi si ripetono\n",
        "def conteggio_booleano(lista):\n",
        "  contoTrue = 0\n",
        "  contoFalse = 0\n",
        "  for elemento in lista:\n",
        "    if elemento == True:\n",
        "      contoTrue += 1\n",
        "    else:\n",
        "      contoFalse += 1\n",
        "  return \"Numero True: \" + str(contoTrue), \"Numero False: \" + str(contoFalse)\n",
        "print(conteggio_booleano([True, False, True, True, False, True]))"
      ],
      "metadata": {
        "colab": {
          "base_uri": "https://localhost:8080/"
        },
        "id": "eIl8yVv5chtw",
        "outputId": "55db5f8a-d1ec-4978-cc0e-d58dfe02aeb6"
      },
      "execution_count": null,
      "outputs": [
        {
          "output_type": "stream",
          "name": "stdout",
          "text": [
            "('Numero True: 4', 'Numero False: 2')\n"
          ]
        }
      ]
    },
    {
      "cell_type": "code",
      "source": [
        "#Scrivi una funzione che accetti una stringa in maiuscolo e restituisca la stringa in minuscolo\n",
        "def stringa_minuscola(stringa):\n",
        "  return stringa.lower()\n",
        "print(stringa_minuscola(\"CIAO\"))"
      ],
      "metadata": {
        "colab": {
          "base_uri": "https://localhost:8080/"
        },
        "id": "CVvJqiyydj3e",
        "outputId": "4b7d64d0-41bc-473b-e345-c908363883a9"
      },
      "execution_count": null,
      "outputs": [
        {
          "output_type": "stream",
          "name": "stdout",
          "text": [
            "ciao\n"
          ]
        }
      ]
    },
    {
      "cell_type": "code",
      "source": [
        "#Scrivi una funzione che accetti due numeri: una base e un esponente. Essa deve restituire la potenza\n",
        "def potenza(base, esponenente):\n",
        "  return base**esponenente\n",
        "print(potenza(3, 4))"
      ],
      "metadata": {
        "colab": {
          "base_uri": "https://localhost:8080/"
        },
        "id": "anRYrD-EmUeI",
        "outputId": "c0139d95-6d25-4168-dd96-0d3f5a6c5ac9"
      },
      "execution_count": null,
      "outputs": [
        {
          "output_type": "stream",
          "name": "stdout",
          "text": [
            "81\n"
          ]
        }
      ]
    },
    {
      "cell_type": "code",
      "source": [
        "#Scrivi una funzione che faccia la divisione tra due numeri\n",
        "def divisione(a, b):\n",
        "  return a / b\n",
        "print(divisione(10, 5))"
      ],
      "metadata": {
        "colab": {
          "base_uri": "https://localhost:8080/"
        },
        "id": "U9QPBrrnm55T",
        "outputId": "6423c258-fa5c-42e8-b100-8af75f78b466"
      },
      "execution_count": null,
      "outputs": [
        {
          "output_type": "stream",
          "name": "stdout",
          "text": [
            "2.0\n"
          ]
        }
      ]
    },
    {
      "cell_type": "code",
      "source": [
        "#Scrivi una funzione che calcoli l'area del quadrato\n",
        "def area_quadrato(lato):\n",
        "  return lato * lato\n",
        "print(area_quadrato(4))"
      ],
      "metadata": {
        "colab": {
          "base_uri": "https://localhost:8080/"
        },
        "id": "EPwKtgOuoNi3",
        "outputId": "6e6b76df-84db-4583-d899-c1487eb24361"
      },
      "execution_count": null,
      "outputs": [
        {
          "output_type": "stream",
          "name": "stdout",
          "text": [
            "16\n"
          ]
        }
      ]
    },
    {
      "cell_type": "code",
      "source": [
        "#Scrivi una funzione che accetti una stringa e trovi il numero intero al suo interno\n",
        "def trova_numero(stringa):\n",
        "  numero = \"0123456789\"\n",
        "  intruso = \"\"\n",
        "  for carattere in stringa:\n",
        "    if carattere in numero:\n",
        "      intruso = carattere\n",
        "  return int(intruso)\n",
        "print(trova_numero(\"c1ao\"))"
      ],
      "metadata": {
        "colab": {
          "base_uri": "https://localhost:8080/"
        },
        "id": "gNw70lkzpVt2",
        "outputId": "8b91a874-2846-4702-c13f-abbb18490fc9"
      },
      "execution_count": null,
      "outputs": [
        {
          "output_type": "stream",
          "name": "stdout",
          "text": [
            "1\n"
          ]
        }
      ]
    },
    {
      "cell_type": "code",
      "source": [
        "#Scrivi una funzione che accetti un dizionario e restituisca la posizione della chiave con il valore più alto\n",
        "def valore_max(dizionario):\n",
        "  maxxx = max(dizionario.values())\n",
        "  val_list = list(dizionario.values())\n",
        "  key = val_list.index(maxxx)\n",
        "  return key\n",
        "print(valore_max({\"ciao\": 50, \"nome\": 3}))"
      ],
      "metadata": {
        "colab": {
          "base_uri": "https://localhost:8080/"
        },
        "id": "Y2027HnZqGOp",
        "outputId": "3d333ce1-b1b0-4167-fe71-6ebbe9dc5720"
      },
      "execution_count": null,
      "outputs": [
        {
          "output_type": "stream",
          "name": "stdout",
          "text": [
            "0\n"
          ]
        }
      ]
    }
  ]
}