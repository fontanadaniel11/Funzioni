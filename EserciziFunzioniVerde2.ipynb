{
  "nbformat": 4,
  "nbformat_minor": 0,
  "metadata": {
    "colab": {
      "provenance": [],
      "include_colab_link": true
    },
    "kernelspec": {
      "name": "python3",
      "display_name": "Python 3"
    },
    "language_info": {
      "name": "python"
    }
  },
  "cells": [
    {
      "cell_type": "markdown",
      "metadata": {
        "id": "view-in-github",
        "colab_type": "text"
      },
      "source": [
        "<a href=\"https://colab.research.google.com/github/fontanadaniel11/Funzioni/blob/main/EserciziFunzioniVerde2.ipynb\" target=\"_parent\"><img src=\"https://colab.research.google.com/assets/colab-badge.svg\" alt=\"Open In Colab\"/></a>"
      ]
    },
    {
      "cell_type": "markdown",
      "source": [
        "1. Scrivere una funzione che prenda come parametro il\n",
        "prezzo iniziale e la percentuale di sconto di un\n",
        "determinato prodotto e restituisca il relativo prezzo\n",
        "finale."
      ],
      "metadata": {
        "id": "5PP45A7A10Xj"
      }
    },
    {
      "cell_type": "code",
      "execution_count": null,
      "metadata": {
        "id": "K1rYLkzU1s1v"
      },
      "outputs": [],
      "source": [
        "def calcolatore(prezzo, sconto):\n",
        "  return prezzo - ((prezzo * sconto) / 100)"
      ]
    },
    {
      "cell_type": "code",
      "source": [
        "prezzo = float(input(\"Inserisci il prezzo del prodotto: \"))\n",
        "sconto = int(input(\"Inserisci la percentuale di sconto che c'è sul prodotto \"))\n",
        "print(f\"Il prezzo intero del prodotto è {prezzo} $, il prezzo scontato del {sconto} % è {calcolatore(prezzo, sconto)} $\")"
      ],
      "metadata": {
        "colab": {
          "base_uri": "https://localhost:8080/"
        },
        "id": "wnJgSdHk2kES",
        "outputId": "fa2c8a5d-9180-4713-e646-6f0a4735cfb1"
      },
      "execution_count": null,
      "outputs": [
        {
          "output_type": "stream",
          "name": "stdout",
          "text": [
            "Inserisci il prezzo del prodotto: 52\n",
            "Inserisci la percentuale di sconto che c'è sul prodotto 20\n",
            "Il prezzo intero del prodotto è 52.0 $, il prezzo scontato del 20 % è 41.6 $\n"
          ]
        }
      ]
    },
    {
      "cell_type": "markdown",
      "source": [
        "2. Scrivere una funzione “saldo” che, sfruttando la\n",
        "funzione precedentemente creata, applichi un ulteriore\n",
        "sconto del 50% al prezzo del prodotto."
      ],
      "metadata": {
        "id": "XYCdK2RN3Q_4"
      }
    },
    {
      "cell_type": "code",
      "source": [
        "def saldo(prezzo, sconto):\n",
        "  return calcolatore(prezzo, sconto) - ((prezzo * 50) / 100)"
      ],
      "metadata": {
        "id": "-WxvZyIJ3Tqt"
      },
      "execution_count": null,
      "outputs": []
    },
    {
      "cell_type": "code",
      "source": [
        "prezzo = float(input(\"Inserisci il prezzo del prodotto: \"))\n",
        "sconto = int(input(\"Inserisci la percentuale di sconto che c'è sul prodotto \"))\n",
        "print(f\"Il prezzo intero del prodotto è {prezzo} $, il prezzo scontato del {sconto + 50} % è {round(saldo(prezzo, sconto), 1)} $\")"
      ],
      "metadata": {
        "colab": {
          "base_uri": "https://localhost:8080/"
        },
        "id": "qqcXunCi4E4K",
        "outputId": "9b79fc08-6582-459c-fcf0-4000eed7bcc1"
      },
      "execution_count": null,
      "outputs": [
        {
          "output_type": "stream",
          "name": "stdout",
          "text": [
            "Inserisci il prezzo del prodotto: 52\n",
            "Inserisci la percentuale di sconto che c'è sul prodotto 20\n",
            "Il prezzo intero del prodotto è 52.0 $, il prezzo scontato del 70 % è 15.6 $\n"
          ]
        }
      ]
    },
    {
      "cell_type": "markdown",
      "source": [
        "3. Scrivere una funzione che stabilisca se un numero è\n",
        "primo."
      ],
      "metadata": {
        "id": "8DUI5Jty48GN"
      }
    },
    {
      "cell_type": "code",
      "source": [
        "def numero_primo(numero):\n",
        "  listaDivisori = []\n",
        "  for i in range(1, numero + 1):\n",
        "    if numero % i == 0:\n",
        "      listaDivisori.append(i)\n",
        "  if len(listaDivisori) == 2:\n",
        "    return True\n",
        "  else:\n",
        "    return False"
      ],
      "metadata": {
        "id": "YOjJajcy4-Xi"
      },
      "execution_count": null,
      "outputs": []
    },
    {
      "cell_type": "code",
      "source": [
        "num = int(input(\"inserisci un numero: \"))\n",
        "if numero_primo(num):\n",
        "  print(f\"{num} è un numero primo\")\n",
        "else:\n",
        "  print(f\"{num} non è un numero primo\")"
      ],
      "metadata": {
        "colab": {
          "base_uri": "https://localhost:8080/"
        },
        "id": "mDpfpJBs5d6i",
        "outputId": "e8a176a5-c7b4-4f6e-d26d-2a1eec58f863"
      },
      "execution_count": null,
      "outputs": [
        {
          "output_type": "stream",
          "name": "stdout",
          "text": [
            "inserisci un numero: 7\n",
            "7 è un numero primo\n"
          ]
        }
      ]
    },
    {
      "cell_type": "markdown",
      "source": [
        "4. Scrivere una funzione che, utilizzando la funzione\n",
        "precedentemente creata, visualizzi i numeri primi\n",
        "compresi tra due numeri passati come parametri."
      ],
      "metadata": {
        "id": "R_PWJdIr59SM"
      }
    },
    {
      "cell_type": "code",
      "source": [
        "def numeri_primi_compresi(inizio, fine):\n",
        "  listaPrimi = []\n",
        "  for i in range(inizio, fine + 1):\n",
        "    if numero_primo(i):\n",
        "      listaPrimi.append(i)\n",
        "  return listaPrimi"
      ],
      "metadata": {
        "id": "B3-1quNF6AuY"
      },
      "execution_count": null,
      "outputs": []
    },
    {
      "cell_type": "code",
      "source": [
        "start = int(input(\"Inserisci l'inizio del range \"))\n",
        "end = int(input(\"Inserisci la fine del range \"))\n",
        "print(f\"I numeri primi compresi tra {start} e {end} sono {numeri_primi_compresi(start, end)}\")"
      ],
      "metadata": {
        "colab": {
          "base_uri": "https://localhost:8080/"
        },
        "id": "gaN4MucNCWZV",
        "outputId": "d847450a-cf86-42ab-9ce4-5d5736e9c98f"
      },
      "execution_count": null,
      "outputs": [
        {
          "output_type": "stream",
          "name": "stdout",
          "text": [
            "Inserisci l'inizio del range 20\n",
            "Inserisci la fine del range 30\n",
            "I numeri primi compresi tra 20 e 30 sono [23, 29]\n"
          ]
        }
      ]
    },
    {
      "cell_type": "markdown",
      "source": [
        "5. Cosa succede se:\n",
        "\n",
        "a = 10\n",
        "\n",
        "def f(a):\n",
        "\n",
        "print(a+1)\n",
        "\n",
        "f(a)"
      ],
      "metadata": {
        "id": "JAaoWPU98MDH"
      }
    },
    {
      "cell_type": "code",
      "source": [
        "a = 10\n",
        "def funzione(a):\n",
        "  print(a+1)\n",
        "\n",
        "funzione(a)\n",
        "\n",
        "#In questo caso richiamiamo la funzione inserendo, come parametro, la variabile a che vale 10, perciò come risultato vedremo 10 + 1. Quello che biosogna sottolineare è il fatto che il print(a + 1) all'interno della funzione è rifereito al parametro a e non alla variabile a"
      ],
      "metadata": {
        "colab": {
          "base_uri": "https://localhost:8080/"
        },
        "id": "ReDfVY2C8V5L",
        "outputId": "f949564e-b4b7-4dcf-a9bd-590620c2bc52"
      },
      "execution_count": null,
      "outputs": [
        {
          "output_type": "stream",
          "name": "stdout",
          "text": [
            "11\n"
          ]
        }
      ]
    },
    {
      "cell_type": "markdown",
      "source": [
        "6. Cosa succede se:\n",
        "\n",
        "a = 10\n",
        "\n",
        "def f(a):\n",
        "\n",
        "print(a+1)\n",
        "\n",
        "f(5)"
      ],
      "metadata": {
        "id": "lo-T3gzp8f30"
      }
    },
    {
      "cell_type": "code",
      "source": [
        "a = 10\n",
        "def funzione2(a):\n",
        "  print(a+1)\n",
        "\n",
        "funzione2(5)\n",
        "#In questo caso richiamiamo la funzione inserendo, come parametro, il valore 5, perciò come risultato vedremo 5 + 1. Questo perchè il print(a + 1) è riferito al paraemetro a (che può avere qualsiasi valore) e non alla variabile a"
      ],
      "metadata": {
        "colab": {
          "base_uri": "https://localhost:8080/"
        },
        "id": "qR2k3Szc8g_v",
        "outputId": "f8da157f-692d-4e99-a21d-4b5a32ebe5b4"
      },
      "execution_count": null,
      "outputs": [
        {
          "output_type": "stream",
          "name": "stdout",
          "text": [
            "6\n"
          ]
        }
      ]
    },
    {
      "cell_type": "markdown",
      "source": [
        "7. Cosa succede se:\n",
        "\n",
        "a = 10\n",
        "\n",
        "def f():\n",
        "\n",
        "a+=1\n",
        "\n",
        "print(a)\n",
        "\n",
        "f()"
      ],
      "metadata": {
        "id": "wSvc66Id-dQx"
      }
    },
    {
      "cell_type": "code",
      "source": [
        "a = 10\n",
        "def funzione3():\n",
        "  a+=1\n",
        "  print(a)\n",
        "\n",
        "funzione3()\n",
        "#In questo caso la funzione non va perché c'è un errore, ovvero, che la variabile a non può essere modificata all'interno della funzione dato che è stata definita fuori"
      ],
      "metadata": {
        "id": "-sAQTdXG-hYd"
      },
      "execution_count": null,
      "outputs": []
    },
    {
      "cell_type": "markdown",
      "source": [
        "8. Cosa succede se:\n",
        "\n",
        "a = 10\n",
        "\n",
        "def f():\n",
        "\n",
        "global a\n",
        "\n",
        "a+=1\n",
        "\n",
        "print(a)\n",
        "\n",
        "f()"
      ],
      "metadata": {
        "id": "Ac2lQL0k_Q35"
      }
    },
    {
      "cell_type": "code",
      "source": [
        "a = 10\n",
        "def funzione4():\n",
        "  global a\n",
        "  a+=1\n",
        "  print(a)\n",
        "\n",
        "funzione4()\n",
        "#In questo caso la funzione va perché con il comando global stiamo dicendo al programma che la variabile a è globale e quindi può esser modificata anche all'interno della funzione"
      ],
      "metadata": {
        "colab": {
          "base_uri": "https://localhost:8080/"
        },
        "id": "c0GQ7_ak_TSi",
        "outputId": "bfff69cd-0219-4ded-8bda-0a75f0d739e5"
      },
      "execution_count": null,
      "outputs": [
        {
          "output_type": "stream",
          "name": "stdout",
          "text": [
            "11\n"
          ]
        }
      ]
    },
    {
      "cell_type": "markdown",
      "source": [
        "9. Cosa succede se:\n",
        "\n",
        "a = 10\n",
        "\n",
        "def f(a):\n",
        "\n",
        "global a\n",
        "\n",
        "a+=1\n",
        "\n",
        "print(a)\n",
        "\n",
        "f()"
      ],
      "metadata": {
        "id": "i3aqXgmP_0l4"
      }
    },
    {
      "cell_type": "code",
      "source": [
        "a = 10\n",
        "def funzione5(a):\n",
        "  global a\n",
        "  a+=1\n",
        "  print(a)\n",
        "\n",
        "funzione5()\n",
        "#In questo caso la funzione non va perché c'è un errore, ovvero, che global a non può essere utilizzato dato che a, in questo caso, è il parametro della funzione che è già modificabile e non la variabile a fuori"
      ],
      "metadata": {
        "id": "P5IASoI9_7cW"
      },
      "execution_count": null,
      "outputs": []
    }
  ]
}