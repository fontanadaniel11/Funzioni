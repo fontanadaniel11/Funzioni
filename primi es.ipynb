{
  "nbformat": 4,
  "nbformat_minor": 0,
  "metadata": {
    "colab": {
      "provenance": [],
      "authorship_tag": "ABX9TyNAfGPUAxjUP6GfeN0t1Bei",
      "include_colab_link": true
    },
    "kernelspec": {
      "name": "python3",
      "display_name": "Python 3"
    },
    "language_info": {
      "name": "python"
    }
  },
  "cells": [
    {
      "cell_type": "markdown",
      "metadata": {
        "id": "view-in-github",
        "colab_type": "text"
      },
      "source": [
        "<a href=\"https://colab.research.google.com/github/fontanadaniel11/Funzioni/blob/main/primi%20es.ipynb\" target=\"_parent\"><img src=\"https://colab.research.google.com/assets/colab-badge.svg\" alt=\"Open In Colab\"/></a>"
      ]
    },
    {
      "cell_type": "code",
      "source": [
        "#creare una funzione che accetti una lista di stringhe e restituisca una nuova lista con le parole che iniziano con una lettera scelta dall'utente\n",
        "def iniziale(lista, iniziale):\n",
        "    lista_iniziale = []\n",
        "    for i in range(len(lista)):\n",
        "        if lista[i].startswith(iniziale):\n",
        "            lista_iniziale.append(lista[i])\n",
        "    return lista_iniziale\n",
        "print(iniziale([\"ciao\", \"como\", \"luca\", \"armando\"], \"a\"))"
      ],
      "metadata": {
        "id": "C3Xq06sd070r"
      },
      "execution_count": null,
      "outputs": []
    },
    {
      "cell_type": "code",
      "source": [
        "#scrivere una funzione che accetti una lista di numeri interi e restituisca una nuova lista che contenga i numeri primi\n",
        "def trova_primi(lista):\n",
        "    primi = []\n",
        "    for numero in lista:\n",
        "        if numero > 1:\n",
        "            for i in range(2, numero):   #il ciclo parte da 2 (il primo numero primo) e arriva fino al numero - 1\n",
        "                if (numero % i) == 0:\n",
        "                    break\n",
        "            else:\n",
        "                primi.append(numero)\n",
        "    return primi\n",
        "print(trova_primi([10, 2, 7, 33, 32, 37]))"
      ],
      "metadata": {
        "id": "sUPI_cCP0_BE"
      },
      "execution_count": null,
      "outputs": []
    },
    {
      "cell_type": "code",
      "source": [
        "#scrivere una funzione che accetti una lista di numeri interi e restituisca una nuova lista che contenga i numeri primi\n",
        "def trova_primi(lista):\n",
        "    primi = []\n",
        "    for numero in lista:\n",
        "        if numero > 1:\n",
        "            for i in range(2, numero):   #il ciclo parte da 2 (il primo numero primo) e arriva fino al numero - 1\n",
        "                if (numero % i) == 0:\n",
        "                    break\n",
        "            else:\n",
        "                primi.append(numero)\n",
        "    return primi\n",
        "print(trova_primi([10, 2, 7, 33, 32, 37]))"
      ],
      "metadata": {
        "id": "rS-_B_UJ0_Mw"
      },
      "execution_count": null,
      "outputs": []
    },
    {
      "cell_type": "code",
      "source": [
        "#scrivere una funzione che converta un numero intero in una stringa\n",
        "def int_stringa(numero):\n",
        "    numeroString = str(numero)\n",
        "    return numeroString, type(numeroString)\n",
        "print(int_stringa(3))"
      ],
      "metadata": {
        "id": "WMq7I-vO0_X4"
      },
      "execution_count": null,
      "outputs": []
    },
    {
      "cell_type": "code",
      "source": [
        "#scrivere una funzione che accetti una stringa in minuscolo e restituisca la stringa in maiuscolo\n",
        "def maiuscolo(stringa):\n",
        "    stringa2 = stringa.upper()\n",
        "    return stringa2\n",
        "print(maiuscolo(\"ciAo\"))"
      ],
      "metadata": {
        "id": "56gBRuxa0_4f"
      },
      "execution_count": null,
      "outputs": []
    },
    {
      "cell_type": "markdown",
      "source": [
        "giorno 2"
      ],
      "metadata": {
        "id": "uUgkK-2d08ie"
      }
    },
    {
      "cell_type": "code",
      "execution_count": null,
      "metadata": {
        "id": "8iLARK510q-9"
      },
      "outputs": [],
      "source": [
        "#Scrivi una funzione che prenda in input una lista di numeri e restituisca la somma di tutti i numeri nella lista.\n",
        "def somma_lista(lista):\n",
        "    for indice in range(len(lista)):\n",
        "        somma = lista[indice] + lista[indice]\n",
        "    return somma \n",
        "print(somma_lista([10, 20, 30]))"
      ]
    },
    {
      "cell_type": "code",
      "source": [
        "#Scrivi una funzione che prenda in input una lista di numeri e restituisca il valore massimo.\n",
        "def massimo_lista(lista):\n",
        "    max = 0\n",
        "    for indice in range(len(lista)):\n",
        "        if lista[indice] > max:\n",
        "            max = lista[indice]\n",
        "    return max\n",
        "print(massimo_lista([1, 30, 0, 65, 6]))"
      ],
      "metadata": {
        "id": "nOH8zjku0uTd"
      },
      "execution_count": null,
      "outputs": []
    },
    {
      "cell_type": "code",
      "source": [
        "#Scrivi una funzione che prenda in input una lista di stringhe e restituisca una nuova lista contenente solo le stringhe con una lunghezza maggiore di 5 caratteri.\n",
        "def stringhe5(lista):\n",
        "    lista_2 = []\n",
        "    for stringa in lista:\n",
        "        if len(stringa) > 5:\n",
        "            lista_2.append(stringa)\n",
        "    return lista_2\n",
        "print(stringhe5([\"Riccardo\", \"Lorenzo\", \"ci\", \"luca\"]))"
      ],
      "metadata": {
        "id": "z8P93izq0vYZ"
      },
      "execution_count": null,
      "outputs": []
    },
    {
      "cell_type": "code",
      "source": [
        "#Scrivi una funzione che prenda in input una lista di numeri e restituisca una nuova lista contenente solo i numeri pari.\n",
        "def numeri_pari(lista):\n",
        "    lista_pari = []\n",
        "    for i in range(len(lista)):\n",
        "        if lista[i] % 2 == 0:\n",
        "            lista_pari.append(lista[i])\n",
        "    return lista_pari\n",
        "print(numeri_pari([1, 2, 3, 4, 5, 6, 7, 8]))"
      ],
      "metadata": {
        "id": "5hnmff7u0wa3"
      },
      "execution_count": null,
      "outputs": []
    },
    {
      "cell_type": "code",
      "source": [
        "#Scrivi una funzione che prenda in input due stringhe e restituisca True se le due stringhe hanno lo stesso contenuto, False altrimenti.\n",
        "def controllo(stringa1, stringa2):\n",
        "    if stringa1 == stringa2:\n",
        "        return True\n",
        "    else:\n",
        "        return False\n",
        "print(controllo(\"ciao\", \"ciao\"))"
      ],
      "metadata": {
        "id": "a3gHGHRQ0xw8"
      },
      "execution_count": null,
      "outputs": []
    },
    {
      "cell_type": "code",
      "source": [
        "#Scrivi una funzione che prenda in input una stringa e restituisca il numero di volte che la lettera \"a\" appare nella stringa.\n",
        "def conteggio(stringa):\n",
        "    conto = 0 \n",
        "    listaStringa = list(stringa)\n",
        "    for carattere in listaStringa:\n",
        "        if carattere == \"a\" or carattere == \"A\":\n",
        "            conto += 1\n",
        "    return conto\n",
        "print(conteggio(\"Armando\"))"
      ],
      "metadata": {
        "id": "XjzcDGMk0y3F"
      },
      "execution_count": null,
      "outputs": []
    },
    {
      "cell_type": "code",
      "source": [
        "#Scrivi una funzione che prenda in input una stringa e restituisca la stessa stringa con tutte le vocali rimosse.\n",
        "def rimuovi_vocali(stringa):\n",
        "    vocali = \"aeiouAEIOU\"\n",
        "    nuova_stringa = \"\"\n",
        "    for carattere in stringa:\n",
        "        if carattere not in vocali:\n",
        "            nuova_stringa += carattere\n",
        "    return nuova_stringa\n",
        "print(rimuovi_vocali(\"Ciao\"))"
      ],
      "metadata": {
        "id": "3RytF4t90zr-"
      },
      "execution_count": null,
      "outputs": []
    },
    {
      "cell_type": "markdown",
      "source": [
        "giorno 3"
      ],
      "metadata": {
        "id": "2qf_Zj8u1VLX"
      }
    },
    {
      "cell_type": "code",
      "source": [
        "#scrivere una funzione che faccia la somma di tutti i numeri presenti in una lista\n",
        "def sommatrice(lista):\n",
        "    somma = 0\n",
        "    for numero in lista:\n",
        "        somma += numero\n",
        "    return somma\n",
        "print(sommatrice([10, 20, 30, 60]))"
      ],
      "metadata": {
        "id": "5JZovPxM1Wap"
      },
      "execution_count": null,
      "outputs": []
    },
    {
      "cell_type": "code",
      "source": [
        "#scrivere una funzione che faccia il prodotto di tutti i numeri presenti in una lista\n",
        "def moltiplicatore(lista):\n",
        "    prodotto = 1\n",
        "    for numero in lista:\n",
        "        prodotto *= numero\n",
        "    return prodotto\n",
        "print(moltiplicatore([10, 20, 30, 60]))"
      ],
      "metadata": {
        "id": "jromhvSQ1ZiZ"
      },
      "execution_count": null,
      "outputs": []
    },
    {
      "cell_type": "code",
      "source": [
        "#Scrivi una funzione a cui passerai come parametro una stringa, e che manderà in print una versione inversa (al contrario) della stessa stringa (ad esempio \"abcd\" diventerà \"dcba\")\n",
        "def reversed(stringa):\n",
        "    return stringa[::-1]\n",
        "print(reversed(\"ciao\"))"
      ],
      "metadata": {
        "id": "buJMqXsi1Z6s"
      },
      "execution_count": null,
      "outputs": []
    },
    {
      "cell_type": "code",
      "source": [
        "#Scrivi una funzione che data in ingresso una lista A contenente n parole, restituisca in output una lista B di interi che rappresentano la lunghezza delle parole contenute in A.\n",
        "def lunghezza_stringhe(lista):\n",
        "    return [len(elemento) for elemento in lista]\n",
        "print(lunghezza_stringhe([\"luca\", \"riccardo\", \"marco\"]))"
      ],
      "metadata": {
        "id": "hJCegXG81aDA"
      },
      "execution_count": null,
      "outputs": []
    },
    {
      "cell_type": "code",
      "source": [
        "#Scrivi una funzione a cui passare una stringa come parametro, e che restituisca un dizionario rappresentante la \"frequenza di comparsa\" di ciscun carattere componente la stringa.\n",
        "def dizionario_comparsa(stringa):\n",
        "    lista_carattere = [carattere for carattere in stringa]\n",
        "    return {lista_carattere[i]: lista_carattere.count(lista_carattere[i]) for i in range(len(lista_carattere))}\n",
        "print(dizionario_comparsa(\"ciao mondo\"))"
      ],
      "metadata": {
        "id": "X74x1Rsf1aLg"
      },
      "execution_count": null,
      "outputs": []
    },
    {
      "cell_type": "code",
      "source": [
        "#Scrivi una funzione a cui vengono passati come parametro un elemento e una lista di elementi, e che ti dica in output se l'elemento passato sia presente o meno nella lista.\n",
        "def dentro(elemento, lista):\n",
        "    if elemento in lista:\n",
        "        return True, lista.index(elemento)\n",
        "    else:\n",
        "        return False\n",
        "print(dentro(\"ciao\", [\"ciao\", \"prova\", \"luca\"]))"
      ],
      "metadata": {
        "id": "GHdS0x_m1aSW"
      },
      "execution_count": null,
      "outputs": []
    },
    {
      "cell_type": "code",
      "source": [
        "#Scrivi una funzione che, a scelta dell'utente, calcoli l'area di: un cerchio, un quadrato, un rettangolo, un triangolo\n",
        "def geometria(figura):\n",
        "    area = 0\n",
        "    if figura == \"cerchio\":\n",
        "        raggio = float(input(\"inserisci il valore del raggio: \"))\n",
        "        area = (raggio**2) * 3.14\n",
        "    elif figura == \"quadrato\":\n",
        "        lato = float(input(\"inserisci il valore del lato: \"))\n",
        "        area = lato**2\n",
        "    elif figura == \"rettangolo\":\n",
        "        base = float(input(\"inserisci il valore della base: \"))\n",
        "        altezza = float(input(\"inserisci il valore dell'altezza: \"))\n",
        "        area = base * altezza\n",
        "    elif figura == \"triangolo\":\n",
        "        base = float(input(\"inserisci il valore della base: \"))\n",
        "        altezza = float(input(\"inserisci il valore dell'altezza: \"))\n",
        "        area = (base * altezza) / 2\n",
        "    return area\n",
        "print(geometria(\"quadrato\"))"
      ],
      "metadata": {
        "id": "09IXLNEp1mUa"
      },
      "execution_count": null,
      "outputs": []
    },
    {
      "cell_type": "code",
      "source": [
        "#Scrivi una semplice funzione che converta un dato numero di giorni, ore e minuti, passati dall'utente tramite funzione input, in secondi.\n",
        "def secondi_convertitore(ore, minuti):\n",
        "    secondi = 0\n",
        "    secondi = (minuti * 60) + (ore * 3600)\n",
        "    return secondi\n",
        "print(secondi_convertitore(4, 42))"
      ],
      "metadata": {
        "id": "K_Hoyymw1msH"
      },
      "execution_count": null,
      "outputs": []
    }
  ]
}