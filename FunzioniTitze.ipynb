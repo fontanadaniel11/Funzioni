{
  "nbformat": 4,
  "nbformat_minor": 0,
  "metadata": {
    "colab": {
      "provenance": [],
      "collapsed_sections": [
        "gDinssgGeIkr",
        "jW-pTNeueMCD",
        "9NERgljNg1fx"
      ],
      "include_colab_link": true
    },
    "kernelspec": {
      "name": "python3",
      "display_name": "Python 3"
    },
    "language_info": {
      "name": "python"
    }
  },
  "cells": [
    {
      "cell_type": "markdown",
      "metadata": {
        "id": "view-in-github",
        "colab_type": "text"
      },
      "source": [
        "<a href=\"https://colab.research.google.com/github/fontanadaniel11/Funzioni/blob/main/FunzioniTitze.ipynb\" target=\"_parent\"><img src=\"https://colab.research.google.com/assets/colab-badge.svg\" alt=\"Open In Colab\"/></a>"
      ]
    },
    {
      "cell_type": "markdown",
      "source": [
        "#Esercizio 1"
      ],
      "metadata": {
        "id": "gDinssgGeIkr"
      }
    },
    {
      "cell_type": "markdown",
      "source": [
        "Programma che calcola il fattoriale di un numero (senza funzioni)"
      ],
      "metadata": {
        "id": "GF4E66gScCGb"
      }
    },
    {
      "cell_type": "code",
      "source": [
        "#il fattoriale di un numero è il numero moltiplicato per tutti i numeri che lo precedono tranne lo 0"
      ],
      "metadata": {
        "id": "-H1O8LxdkoMs"
      },
      "execution_count": null,
      "outputs": []
    },
    {
      "cell_type": "code",
      "execution_count": null,
      "metadata": {
        "colab": {
          "base_uri": "https://localhost:8080/"
        },
        "id": "UTOewbASbtfL",
        "outputId": "3c085502-1d50-4389-8a15-6df1f7da5468"
      },
      "outputs": [
        {
          "output_type": "stream",
          "name": "stdout",
          "text": [
            "Inserisci un numero: 5\n",
            "Il fattoriale di 5 è 120\n"
          ]
        }
      ],
      "source": [
        "numero = int(input(\"Inserisci un numero: \"))\n",
        "fattoriale = 1\n",
        "\n",
        "if numero < 0:\n",
        "    print(\"Errore: il fattoriale è definito solo per numeri interi positivi.\")\n",
        "elif numero == 0:\n",
        "    print(\"Il fattoriale di 0 è 1.\")\n",
        "else:\n",
        "    for i in range(1, numero + 1):\n",
        "        fattoriale *= i\n",
        "    print(\"Il fattoriale di\", numero, \"è\", fattoriale)"
      ]
    },
    {
      "cell_type": "markdown",
      "source": [
        "Programma che calcola il fattoriale di un numero (con funzioni)"
      ],
      "metadata": {
        "id": "tODMgYAecYB1"
      }
    },
    {
      "cell_type": "code",
      "source": [
        "def fattoriale_numero(n):   #l'input della funzione è il parametro che l'utente inserisce al richiamo della funzione stessa\n",
        "  fatt = 1\n",
        "  for i in range(1, n + 1):\n",
        "    fatt *= i\n",
        "  return fatt"
      ],
      "metadata": {
        "id": "3DEvGlrAcOok"
      },
      "execution_count": null,
      "outputs": []
    },
    {
      "cell_type": "code",
      "source": [
        "numero = int(input(\"Inserisci un numero: \"))\n",
        "\n",
        "if numero < 0:\n",
        "    print(\"Errore: il fattoriale è definito solo per numeri interi positivi.\")\n",
        "elif numero == 0:\n",
        "    print(\"Il fattoriale di 0 è 1.\")\n",
        "else:\n",
        "    print(\"Il fattoriale di\", numero, \"è\", fattoriale_numero(numero))"
      ],
      "metadata": {
        "colab": {
          "base_uri": "https://localhost:8080/"
        },
        "id": "MqTpMcdfl1Vk",
        "outputId": "8c31fd69-1862-44f2-cf37-09006412a593"
      },
      "execution_count": null,
      "outputs": [
        {
          "output_type": "stream",
          "name": "stdout",
          "text": [
            "Inserisci un numero: 5\n",
            "Il fattoriale di 5 è 120\n"
          ]
        }
      ]
    },
    {
      "cell_type": "code",
      "source": [
        "#uso una funzione con la condizione all'interno restituendo solo numeri\n",
        "def fattoriale_numero2(n): \n",
        "  fatt = 1\n",
        "  if n < 0:\n",
        "    return -1\n",
        "  elif n == 0:\n",
        "    return 1\n",
        "  else:\n",
        "    for i in range(1, n + 1):\n",
        "      fatt *= i\n",
        "    return fatt"
      ],
      "metadata": {
        "id": "OaPxIs_sntV8"
      },
      "execution_count": null,
      "outputs": []
    },
    {
      "cell_type": "code",
      "source": [
        "num = int(input(\"Inserisci un numero: \"))\n",
        "print(fattoriale_numero2(num))"
      ],
      "metadata": {
        "colab": {
          "base_uri": "https://localhost:8080/"
        },
        "id": "9qS503eRoG5M",
        "outputId": "0ba9247e-33e7-4b83-f27e-1a1ca44c9666"
      },
      "execution_count": null,
      "outputs": [
        {
          "output_type": "stream",
          "name": "stdout",
          "text": [
            "Inserisci un numero: 5\n",
            "120\n"
          ]
        }
      ]
    },
    {
      "cell_type": "markdown",
      "source": [
        "Calcolo delle disposizioni di n elementi di classe k: disposizioni(n, k) = n!/(n-k)!"
      ],
      "metadata": {
        "id": "pyjI6j5FdF2J"
      }
    },
    {
      "cell_type": "code",
      "source": [
        "def disposizioni(n, k):\n",
        "  return fattoriale_numero2(n) // fattoriale_numero2(n - k)\n",
        "\n",
        "disposizioni(3, 2)"
      ],
      "metadata": {
        "colab": {
          "base_uri": "https://localhost:8080/"
        },
        "id": "BJxKh2txdJ1h",
        "outputId": "3a6430d5-ee73-4cad-9c10-7cdc254881a1"
      },
      "execution_count": null,
      "outputs": [
        {
          "output_type": "execute_result",
          "data": {
            "text/plain": [
              "6"
            ]
          },
          "metadata": {},
          "execution_count": 25
        }
      ]
    },
    {
      "cell_type": "markdown",
      "source": [
        "Caclolo delle combinazioni di n elementi di classe k:  n!/(k!*(n-k)!))"
      ],
      "metadata": {
        "id": "omTM3l9NdY0Y"
      }
    },
    {
      "cell_type": "code",
      "source": [
        "def combinazioni(n, k):\n",
        "  return fattoriale_numero2(n) // (fattoriale_numero(k) * fattoriale_numero(n - k))\n",
        "\n",
        "combinazioni(3, 2)"
      ],
      "metadata": {
        "colab": {
          "base_uri": "https://localhost:8080/"
        },
        "id": "E2xDeJ3HdYDo",
        "outputId": "56c5fbd4-cd06-47a4-a91a-2d92b381bc3a"
      },
      "execution_count": null,
      "outputs": [
        {
          "output_type": "execute_result",
          "data": {
            "text/plain": [
              "3"
            ]
          },
          "metadata": {},
          "execution_count": 28
        }
      ]
    },
    {
      "cell_type": "markdown",
      "source": [
        "#Esercizio 2"
      ],
      "metadata": {
        "id": "jW-pTNeueMCD"
      }
    },
    {
      "cell_type": "markdown",
      "source": [
        "Programma che visualizza i divisori di un numero (senza funzioni)"
      ],
      "metadata": {
        "id": "atYeT-CieQ0i"
      }
    },
    {
      "cell_type": "code",
      "source": [
        "numero = int(input(\"Inserisci un numero: \"))\n",
        "\n",
        "print(\"I divisori di\", numero, \"sono:\")\n",
        "for i in range(1, numero + 1):\n",
        "    if numero % i == 0:\n",
        "        print(i)"
      ],
      "metadata": {
        "colab": {
          "base_uri": "https://localhost:8080/"
        },
        "id": "EKC5lvKvePt9",
        "outputId": "4559082d-6537-4ab8-dd48-9f7f02444fc4"
      },
      "execution_count": null,
      "outputs": [
        {
          "output_type": "stream",
          "name": "stdout",
          "text": [
            "Inserisci un numero: 60\n",
            "I divisori di 60 sono:\n",
            "1\n",
            "2\n",
            "3\n",
            "4\n",
            "5\n",
            "6\n",
            "10\n",
            "12\n",
            "15\n",
            "20\n",
            "30\n",
            "60\n"
          ]
        }
      ]
    },
    {
      "cell_type": "markdown",
      "source": [
        "Programma che visualizza i divisori di un numero (con funzioni)"
      ],
      "metadata": {
        "id": "19DpCV_YeX4j"
      }
    },
    {
      "cell_type": "code",
      "source": [
        "def divisori(n):\n",
        "  lista_divisori = []\n",
        "  for i in range(1, n + 1):\n",
        "    if n % i == 0:\n",
        "      lista_divisori.append(i)\n",
        "  return lista_divisori\n",
        "\n",
        "divisori(60)"
      ],
      "metadata": {
        "colab": {
          "base_uri": "https://localhost:8080/"
        },
        "id": "AvMhDPylefW1",
        "outputId": "678bbcca-3867-4b04-da81-7f129d975e4b"
      },
      "execution_count": null,
      "outputs": [
        {
          "output_type": "execute_result",
          "data": {
            "text/plain": [
              "[1, 2, 3, 4, 5, 6, 10, 12, 15, 20, 30, 60]"
            ]
          },
          "metadata": {},
          "execution_count": 1
        }
      ]
    },
    {
      "cell_type": "code",
      "source": [
        "num = int(input(\"Inserire un numero: \"))\n",
        "print(\"I divisori di\", num, \"sono: \", divisori(num))"
      ],
      "metadata": {
        "colab": {
          "base_uri": "https://localhost:8080/"
        },
        "id": "fPMWeWrat4Tb",
        "outputId": "d7c1f822-81a6-42a5-85b3-31d74661da27"
      },
      "execution_count": null,
      "outputs": [
        {
          "output_type": "stream",
          "name": "stdout",
          "text": [
            "Inserire un numero: 60\n",
            "I divisori di 60 sono:  [1, 2, 3, 4, 5, 6, 10, 12, 15, 20, 30, 60]\n"
          ]
        }
      ]
    },
    {
      "cell_type": "markdown",
      "source": [
        "Programma che dati due numeri trovi il massimo cumun divisore dei due numeri, usando la funzione precedente"
      ],
      "metadata": {
        "id": "JZMhSSsbelxC"
      }
    },
    {
      "cell_type": "code",
      "source": [
        "def MCD(a, b):\n",
        "  divisoriA = divisori(a)\n",
        "  divisoriB = divisori(b)\n",
        "  divisoriComuni = list(set(divisoriA).intersection(set(divisoriB)))\n",
        "  return max(divisoriComuni)\n",
        "\n",
        "num1 = int(input(\"Inserire il primo numero: \"))\n",
        "num2 = int(input(\"Inserire il secondo numero: \"))\n",
        "print(\"Il massimo comun divisore di\", num1, \"e\", num2, \"é\", MCD(num1, num2))"
      ],
      "metadata": {
        "colab": {
          "base_uri": "https://localhost:8080/"
        },
        "id": "mfKPEDXDeznj",
        "outputId": "1dd3f120-9138-4b22-8f69-337f7b551dcd"
      },
      "execution_count": null,
      "outputs": [
        {
          "output_type": "stream",
          "name": "stdout",
          "text": [
            "Inserire il primo numero: 15\n",
            "Inserire il secondo numero: 12\n",
            "Il massimo comun divisore di 15 e 12 é 3\n"
          ]
        }
      ]
    },
    {
      "cell_type": "markdown",
      "source": [
        "Programma che semplifica una frazione: creare la funzione semplificaFrazione (usando la funzione MCD creato precedentemente) che abbia come parametri il numeratore e il denominatore di una frazione e come valori di ritorno il numero taore eil denominatore della funzione semplificata"
      ],
      "metadata": {
        "id": "HpjxMef7e-dS"
      }
    },
    {
      "cell_type": "code",
      "source": [
        "def semplificaFrazione(numeratore, denominatore):\n",
        "  return numeratore // MCD(numeratore, denominatore), denominatore // MCD(numeratore, denominatore)"
      ],
      "metadata": {
        "id": "CxQeDGgcfd-z"
      },
      "execution_count": null,
      "outputs": []
    },
    {
      "cell_type": "code",
      "source": [
        "num = int(input(\"Inserisci il numeratore: \"))\n",
        "den = int(input(\"Inserisci il denominatore: \"))\n",
        "print(\"La frazione\", num, \"/\", den, \"può essere semplificata in\", semplificaFrazione(num, den))"
      ],
      "metadata": {
        "colab": {
          "base_uri": "https://localhost:8080/"
        },
        "id": "S6cFWnZsyUJM",
        "outputId": "59854f9e-0af3-4410-e59b-1ec3f56c7573"
      },
      "execution_count": null,
      "outputs": [
        {
          "output_type": "stream",
          "name": "stdout",
          "text": [
            "Inserisci il numeratore: 12\n",
            "Inserisci il denominatore: 15\n",
            "La frazione 12 / 15 può essere semplificata in (4, 5)\n"
          ]
        }
      ]
    },
    {
      "cell_type": "markdown",
      "source": [
        "Programma che sommi due frazioni e fornisca il valore del risultato semplificato. Utilizzare le funzioni create precedentemente"
      ],
      "metadata": {
        "id": "t2XV1dmVfm2t"
      }
    },
    {
      "cell_type": "code",
      "source": [
        "def sommaFrazioni(n1, d1, n2, d2):\n",
        "  sopra = n1 * d2 + n2 * d1\n",
        "  sotto = d1 * d2\n",
        "  return semplificaFrazione(sopra, sotto)\n",
        "\n",
        "sommaFrazioni(12, 15, 12, 15)"
      ],
      "metadata": {
        "colab": {
          "base_uri": "https://localhost:8080/"
        },
        "id": "Y0RlQPkU43TL",
        "outputId": "453b1a12-7885-4798-e0b7-3bd6e0227f36"
      },
      "execution_count": null,
      "outputs": [
        {
          "output_type": "execute_result",
          "data": {
            "text/plain": [
              "(8, 5)"
            ]
          },
          "metadata": {},
          "execution_count": 4
        }
      ]
    },
    {
      "cell_type": "code",
      "source": [
        "n1 = int(input(\"Inserisci il primo numeratore: \"))\n",
        "d1 = int(input(\"Inserisci il primo denominatore: \"))\n",
        "n2 = int(input(\"Inserisci il secondo numeratore: \"))\n",
        "d2 = int(input(\"Inserisci il secondo denominatore: \"))\n",
        "risultato = sommaFrazioni(n1, d1, n2, d2)\n",
        "print(\"La somma di\", n1, \"/\", d1, \"+\", n2, \"/\", d2, \"è uguale a\", risultato[0], \"/\", risultato[1])"
      ],
      "metadata": {
        "colab": {
          "base_uri": "https://localhost:8080/"
        },
        "id": "5e-s_IgB5TYz",
        "outputId": "fcba4199-23de-4a57-8ef9-bad2d082c19f"
      },
      "execution_count": null,
      "outputs": [
        {
          "output_type": "stream",
          "name": "stdout",
          "text": [
            "Inserisci il primo numeratore: 12\n",
            "Inserisci il primo denominatore: 15\n",
            "Inserisci il secondo numeratore: 12\n",
            "Inserisci il secondo denominatore: 15\n",
            "La somma di 12 / 15 + 12 / 15 è uguale a 8 / 5\n"
          ]
        }
      ]
    },
    {
      "cell_type": "markdown",
      "source": [
        "Programma che calcoli il prodotto di due frazioni e fornisca il valore del risultato semplificato. Utilizzare le funzioni create precedentemente"
      ],
      "metadata": {
        "id": "aIgm0TB8f9xs"
      }
    },
    {
      "cell_type": "code",
      "source": [
        "def prodottoFrazioni(n1, d1, n2, d2):\n",
        "  sopra = n1 * n2\n",
        "  sotto = d1 * d2\n",
        "  return semplificaFrazione(sopra, sotto)\n",
        "\n",
        "prodottoFrazioni(10, 15, 4, 2)"
      ],
      "metadata": {
        "colab": {
          "base_uri": "https://localhost:8080/"
        },
        "id": "yXLEhAlXgIvM",
        "outputId": "7690b52c-e48a-4b8f-8326-c1612ba7dec8"
      },
      "execution_count": null,
      "outputs": [
        {
          "output_type": "execute_result",
          "data": {
            "text/plain": [
              "(4, 3)"
            ]
          },
          "metadata": {},
          "execution_count": 67
        }
      ]
    },
    {
      "cell_type": "code",
      "source": [
        "n1 = int(input(\"Inserisci il primo numeratore: \"))\n",
        "d1 = int(input(\"Inserisci il primo denominatore: \"))\n",
        "n2 = int(input(\"Inserisci il secondo numeratore: \"))\n",
        "d2 = int(input(\"Inserisci il secondo denominatore: \"))\n",
        "risultato = prodottoFrazioni(n1, d1, n2, d2)\n",
        "print(\"Il prodotto di\", n1, \"/\", d1, \"*\", n2, \"/\", d2, \"è uguale a\", risultato[0], \"/\", risultato[1])"
      ],
      "metadata": {
        "colab": {
          "base_uri": "https://localhost:8080/"
        },
        "id": "dp9jCcXJ7PK9",
        "outputId": "89c65636-e379-4395-92ea-1c05be8081d1"
      },
      "execution_count": null,
      "outputs": [
        {
          "output_type": "stream",
          "name": "stdout",
          "text": [
            "Inserisci il primo numeratore: 10\n",
            "Inserisci il primo denominatore: 15\n",
            "Inserisci il secondo numeratore: 4\n",
            "Inserisci il secondo denominatore: 2\n",
            "Il prodotto di 10 / 15 * 4 / 2 è uguale a 4 / 3\n"
          ]
        }
      ]
    },
    {
      "cell_type": "markdown",
      "source": [
        "#Esercizio 3"
      ],
      "metadata": {
        "id": "9NERgljNg1fx"
      }
    },
    {
      "cell_type": "markdown",
      "source": [
        "Scrivere programmi analoghi ai precedenti per calcolare la differenza e la divisione tra due frazioni"
      ],
      "metadata": {
        "id": "gLtWFlHYgsvv"
      }
    },
    {
      "cell_type": "code",
      "source": [
        "def differenzaFrazioni(n1, d1, n2, d2):\n",
        "  return sommaFrazioni(n1, d1, -n2, d2)\n",
        "\n",
        "differenzaFrazioni(3, 4, 2, 3)"
      ],
      "metadata": {
        "colab": {
          "base_uri": "https://localhost:8080/"
        },
        "id": "Gu9Po9LU7vZj",
        "outputId": "8e7d4871-2d63-4c2c-d7b9-4823b7e0a73f"
      },
      "execution_count": null,
      "outputs": [
        {
          "output_type": "execute_result",
          "data": {
            "text/plain": [
              "(1, 12)"
            ]
          },
          "metadata": {},
          "execution_count": 5
        }
      ]
    },
    {
      "cell_type": "code",
      "source": [
        "def quozienteFrazioni(n1, n2, d1, d2):\n",
        "  sopra = n1 * d2\n",
        "  sotto = d1 * n2\n",
        "  return semplificaFrazione(sopra, sotto)\n",
        "\n",
        "quozienteFrazioni(3, 5, 3, 4)"
      ],
      "metadata": {
        "colab": {
          "base_uri": "https://localhost:8080/"
        },
        "id": "hzJ3YJFrR2lX",
        "outputId": "d466a862-c725-41b3-ac84-4c14de70d931"
      },
      "execution_count": null,
      "outputs": [
        {
          "output_type": "execute_result",
          "data": {
            "text/plain": [
              "(4, 5)"
            ]
          },
          "metadata": {},
          "execution_count": 9
        }
      ]
    }
  ]
}